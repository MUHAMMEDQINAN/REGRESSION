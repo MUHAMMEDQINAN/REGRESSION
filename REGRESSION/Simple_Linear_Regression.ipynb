{
 "cells": [
  {
   "cell_type": "markdown",
   "id": "5d8eca96-81a3-41a6-b92f-67a8b8818c35",
   "metadata": {},
   "source": [
    "## SIMPLE LINEAR REGRESSION   : weight prediction using height"
   ]
  },
  {
   "cell_type": "markdown",
   "id": "41e34e4d-a296-438a-a541-b7b72cbbc198",
   "metadata": {},
   "source": [
    "#### Importing required libraries"
   ]
  },
  {
   "cell_type": "code",
   "execution_count": 1,
   "id": "44a80657-1f73-43aa-be71-c000a3eaeaa2",
   "metadata": {},
   "outputs": [],
   "source": [
    "\n",
    "import numpy as np\n",
    "import pandas as pd\n",
    "import matplotlib.pyplot as plt\n",
    "import seaborn as sns\n",
    "from sklearn.model_selection import train_test_split\n",
    "from sklearn.linear_model import LinearRegression\n",
    "from sklearn.preprocessing import StandardScaler\n",
    "from sklearn.metrics import mean_squared_error,mean_absolute_error\n",
    "from sklearn.metrics import r2_score\n"
   ]
  },
  {
   "cell_type": "markdown",
   "id": "19e7bf32-1420-43c5-aa57-bb57ae8eed60",
   "metadata": {},
   "source": [
    "#### Loading and analyzing data"
   ]
  },
  {
   "cell_type": "code",
   "execution_count": 2,
   "id": "883a33c5-b5c6-4934-9b1f-8dbe37a1a7bf",
   "metadata": {},
   "outputs": [
    {
     "data": {
      "text/html": [
       "<div>\n",
       "<style scoped>\n",
       "    .dataframe tbody tr th:only-of-type {\n",
       "        vertical-align: middle;\n",
       "    }\n",
       "\n",
       "    .dataframe tbody tr th {\n",
       "        vertical-align: top;\n",
       "    }\n",
       "\n",
       "    .dataframe thead th {\n",
       "        text-align: right;\n",
       "    }\n",
       "</style>\n",
       "<table border=\"1\" class=\"dataframe\">\n",
       "  <thead>\n",
       "    <tr style=\"text-align: right;\">\n",
       "      <th></th>\n",
       "      <th>Height</th>\n",
       "      <th>Weight</th>\n",
       "    </tr>\n",
       "  </thead>\n",
       "  <tbody>\n",
       "    <tr>\n",
       "      <th>0</th>\n",
       "      <td>167</td>\n",
       "      <td>65</td>\n",
       "    </tr>\n",
       "    <tr>\n",
       "      <th>1</th>\n",
       "      <td>182</td>\n",
       "      <td>85</td>\n",
       "    </tr>\n",
       "    <tr>\n",
       "      <th>2</th>\n",
       "      <td>175</td>\n",
       "      <td>72</td>\n",
       "    </tr>\n",
       "    <tr>\n",
       "      <th>3</th>\n",
       "      <td>160</td>\n",
       "      <td>60</td>\n",
       "    </tr>\n",
       "    <tr>\n",
       "      <th>4</th>\n",
       "      <td>170</td>\n",
       "      <td>68</td>\n",
       "    </tr>\n",
       "  </tbody>\n",
       "</table>\n",
       "</div>"
      ],
      "text/plain": [
       "   Height  Weight\n",
       "0     167      65\n",
       "1     182      85\n",
       "2     175      72\n",
       "3     160      60\n",
       "4     170      68"
      ]
     },
     "execution_count": 2,
     "metadata": {},
     "output_type": "execute_result"
    }
   ],
   "source": [
    "# Load Data\n",
    "df = pd.read_csv('height_weight_data.csv')\n",
    "df.head()"
   ]
  },
  {
   "cell_type": "code",
   "execution_count": 3,
   "id": "8f66a97e-d147-4087-913a-457e399c9835",
   "metadata": {},
   "outputs": [
    {
     "data": {
      "text/plain": [
       "Index(['Height', 'Weight'], dtype='object')"
      ]
     },
     "execution_count": 3,
     "metadata": {},
     "output_type": "execute_result"
    }
   ],
   "source": [
    "df.columns"
   ]
  },
  {
   "cell_type": "code",
   "execution_count": 4,
   "id": "e3260a54-870d-4ada-a1b0-003761570a07",
   "metadata": {},
   "outputs": [
    {
     "data": {
      "text/plain": [
       "(20, 2)"
      ]
     },
     "execution_count": 4,
     "metadata": {},
     "output_type": "execute_result"
    }
   ],
   "source": [
    "# no of rows and columns in data set (rows,columns)\n",
    "\n",
    "df.shape"
   ]
  },
  {
   "cell_type": "code",
   "execution_count": 5,
   "id": "1d28c7e1-9048-4805-9fbc-e78dc3eef6ad",
   "metadata": {},
   "outputs": [],
   "source": [
    "# Decide features and target variable \n",
    "\n",
    "X = df[['Height']]  # Features (height)\n",
    "y = df['Weight']   # Target variable (weight)"
   ]
  },
  {
   "cell_type": "code",
   "execution_count": 6,
   "id": "a1bd88c2-d6ad-4e9d-8aa5-0561cf3a6710",
   "metadata": {},
   "outputs": [
    {
     "data": {
      "text/plain": [
       "Text(0, 0.5, 'Weight')"
      ]
     },
     "execution_count": 6,
     "metadata": {},
     "output_type": "execute_result"
    },
    {
     "data": {
      "image/png": "[encoded data removed]",
      "text/plain": [
       "<Figure size 640x480 with 1 Axes>"
      ]
     },
     "metadata": {},
     "output_type": "display_data"
    }
   ],
   "source": [
    "# scatter plot of Height VS Weight\n",
    "\n",
    "plt.scatter(X,y)\n",
    "plt.xlabel('Height',fontsize = 15)\n",
    "plt.ylabel('Weight',fontsize = 15)"
   ]
  },
  {
   "cell_type": "markdown",
   "id": "b0c148f2-63d7-497a-9009-91f92d1055b5",
   "metadata": {},
   "source": [
    "###### NOTE : since data is linear , lets apply linear regression"
   ]
  },
  {
   "cell_type": "markdown",
   "id": "60607e8b-5d2b-49a1-9018-4278ab4b92bf",
   "metadata": {},
   "source": [
    "#### Train Test split"
   ]
  },
  {
   "cell_type": "code",
   "execution_count": 7,
   "id": "51cad57b-f21c-4394-9246-47bb23a74201",
   "metadata": {},
   "outputs": [],
   "source": [
    "# Split the data into training and testing sets\n",
    "\n",
    "X_train, X_test, y_train, y_test = train_test_split(X, y, test_size=0.2, random_state=42)"
   ]
  },
  {
   "cell_type": "code",
   "execution_count": 8,
   "id": "a81a339b-71aa-43f5-8ccd-0d52f1225b5c",
   "metadata": {},
   "outputs": [
    {
     "data": {
      "text/html": [
       "<div>\n",
       "<style scoped>\n",
       "    .dataframe tbody tr th:only-of-type {\n",
       "        vertical-align: middle;\n",
       "    }\n",
       "\n",
       "    .dataframe tbody tr th {\n",
       "        vertical-align: top;\n",
       "    }\n",
       "\n",
       "    .dataframe thead th {\n",
       "        text-align: right;\n",
       "    }\n",
       "</style>\n",
       "<table border=\"1\" class=\"dataframe\">\n",
       "  <thead>\n",
       "    <tr style=\"text-align: right;\">\n",
       "      <th></th>\n",
       "      <th>Height</th>\n",
       "    </tr>\n",
       "  </thead>\n",
       "  <tbody>\n",
       "    <tr>\n",
       "      <th>8</th>\n",
       "      <td>158</td>\n",
       "    </tr>\n",
       "    <tr>\n",
       "      <th>5</th>\n",
       "      <td>180</td>\n",
       "    </tr>\n",
       "    <tr>\n",
       "      <th>11</th>\n",
       "      <td>173</td>\n",
       "    </tr>\n",
       "    <tr>\n",
       "      <th>3</th>\n",
       "      <td>160</td>\n",
       "    </tr>\n",
       "    <tr>\n",
       "      <th>18</th>\n",
       "      <td>177</td>\n",
       "    </tr>\n",
       "    <tr>\n",
       "      <th>16</th>\n",
       "      <td>171</td>\n",
       "    </tr>\n",
       "    <tr>\n",
       "      <th>13</th>\n",
       "      <td>181</td>\n",
       "    </tr>\n",
       "    <tr>\n",
       "      <th>2</th>\n",
       "      <td>175</td>\n",
       "    </tr>\n",
       "    <tr>\n",
       "      <th>9</th>\n",
       "      <td>176</td>\n",
       "    </tr>\n",
       "    <tr>\n",
       "      <th>19</th>\n",
       "      <td>179</td>\n",
       "    </tr>\n",
       "    <tr>\n",
       "      <th>4</th>\n",
       "      <td>170</td>\n",
       "    </tr>\n",
       "    <tr>\n",
       "      <th>12</th>\n",
       "      <td>169</td>\n",
       "    </tr>\n",
       "    <tr>\n",
       "      <th>7</th>\n",
       "      <td>172</td>\n",
       "    </tr>\n",
       "    <tr>\n",
       "      <th>10</th>\n",
       "      <td>168</td>\n",
       "    </tr>\n",
       "    <tr>\n",
       "      <th>14</th>\n",
       "      <td>174</td>\n",
       "    </tr>\n",
       "    <tr>\n",
       "      <th>6</th>\n",
       "      <td>165</td>\n",
       "    </tr>\n",
       "  </tbody>\n",
       "</table>\n",
       "</div>"
      ],
      "text/plain": [
       "    Height\n",
       "8      158\n",
       "5      180\n",
       "11     173\n",
       "3      160\n",
       "18     177\n",
       "16     171\n",
       "13     181\n",
       "2      175\n",
       "9      176\n",
       "19     179\n",
       "4      170\n",
       "12     169\n",
       "7      172\n",
       "10     168\n",
       "14     174\n",
       "6      165"
      ]
     },
     "execution_count": 8,
     "metadata": {},
     "output_type": "execute_result"
    }
   ],
   "source": [
    "X_train"
   ]
  },
  {
   "cell_type": "code",
   "execution_count": 9,
   "id": "09e1bb45-f38b-45d1-850a-c92608b0f0e6",
   "metadata": {},
   "outputs": [
    {
     "data": {
      "text/html": [
       "<div>\n",
       "<style scoped>\n",
       "    .dataframe tbody tr th:only-of-type {\n",
       "        vertical-align: middle;\n",
       "    }\n",
       "\n",
       "    .dataframe tbody tr th {\n",
       "        vertical-align: top;\n",
       "    }\n",
       "\n",
       "    .dataframe thead th {\n",
       "        text-align: right;\n",
       "    }\n",
       "</style>\n",
       "<table border=\"1\" class=\"dataframe\">\n",
       "  <thead>\n",
       "    <tr style=\"text-align: right;\">\n",
       "      <th></th>\n",
       "      <th>Height</th>\n",
       "    </tr>\n",
       "  </thead>\n",
       "  <tbody>\n",
       "    <tr>\n",
       "      <th>0</th>\n",
       "      <td>167</td>\n",
       "    </tr>\n",
       "    <tr>\n",
       "      <th>17</th>\n",
       "      <td>166</td>\n",
       "    </tr>\n",
       "    <tr>\n",
       "      <th>15</th>\n",
       "      <td>163</td>\n",
       "    </tr>\n",
       "    <tr>\n",
       "      <th>1</th>\n",
       "      <td>182</td>\n",
       "    </tr>\n",
       "  </tbody>\n",
       "</table>\n",
       "</div>"
      ],
      "text/plain": [
       "    Height\n",
       "0      167\n",
       "17     166\n",
       "15     163\n",
       "1      182"
      ]
     },
     "execution_count": 9,
     "metadata": {},
     "output_type": "execute_result"
    }
   ],
   "source": [
    "X_test"
   ]
  },
  {
   "cell_type": "code",
   "execution_count": 10,
   "id": "2eec9e05-66af-43bd-91d3-1fb460bf8d7c",
   "metadata": {},
   "outputs": [
    {
     "data": {
      "text/plain": [
       "8     58\n",
       "5     80\n",
       "11    73\n",
       "3     60\n",
       "18    77\n",
       "16    69\n",
       "13    83\n",
       "2     72\n",
       "9     76\n",
       "19    79\n",
       "4     68\n",
       "12    66\n",
       "7     74\n",
       "10    64\n",
       "14    71\n",
       "6     62\n",
       "Name: Weight, dtype: int64"
      ]
     },
     "execution_count": 10,
     "metadata": {},
     "output_type": "execute_result"
    }
   ],
   "source": [
    "y_train"
   ]
  },
  {
   "cell_type": "code",
   "execution_count": 11,
   "id": "14690cf7-6e68-4402-bb4b-401553a869ff",
   "metadata": {},
   "outputs": [
    {
     "data": {
      "text/plain": [
       "0     65\n",
       "17    63\n",
       "15    61\n",
       "1     85\n",
       "Name: Weight, dtype: int64"
      ]
     },
     "execution_count": 11,
     "metadata": {},
     "output_type": "execute_result"
    }
   ],
   "source": [
    "y_test"
   ]
  },
  {
   "cell_type": "markdown",
   "id": "94e72dd7-2543-4862-a957-145e6c76668e",
   "metadata": {},
   "source": [
    "#### Standardization of Feature"
   ]
  },
  {
   "cell_type": "code",
   "execution_count": 12,
   "id": "0561c4f5-6cd0-4154-853a-1e27ef54a036",
   "metadata": {},
   "outputs": [],
   "source": [
    "# standardization of the feature X (applying z score to each data points)\n",
    "\n",
    "# create instance of StandardScaler\n",
    "scaler = StandardScaler()\n",
    "\n",
    "# Fit and transform the training data \n",
    "X_train_scaled = scaler.fit_transform(X_train)\n",
    "\n",
    "# Transform the test data\n",
    "X_test_scaled = scaler.transform(X_test)"
   ]
  },
  {
   "cell_type": "code",
   "execution_count": 13,
   "id": "06d776c5-32e6-4f56-899e-22a5a7889bc4",
   "metadata": {},
   "outputs": [
    {
     "data": {
      "text/plain": [
       "array([[-2.1296085 ],\n",
       "       [ 1.2777651 ],\n",
       "       [ 0.19360077],\n",
       "       [-1.81984727],\n",
       "       [ 0.81312325],\n",
       "       [-0.11616046],\n",
       "       [ 1.43264572],\n",
       "       [ 0.50336201],\n",
       "       [ 0.65824263],\n",
       "       [ 1.12288448],\n",
       "       [-0.27104108],\n",
       "       [-0.4259217 ],\n",
       "       [ 0.03872015],\n",
       "       [-0.58080232],\n",
       "       [ 0.34848139],\n",
       "       [-1.04544418]])"
      ]
     },
     "execution_count": 13,
     "metadata": {},
     "output_type": "execute_result"
    }
   ],
   "source": [
    "X_train_scaled"
   ]
  },
  {
   "cell_type": "code",
   "execution_count": 14,
   "id": "3150c1e1-5c88-44e4-8597-ba64c1f8b3b5",
   "metadata": {},
   "outputs": [
    {
     "data": {
      "text/plain": [
       "array([[-0.73568294],\n",
       "       [-0.89056356],\n",
       "       [-1.35520541],\n",
       "       [ 1.58752634]])"
      ]
     },
     "execution_count": 14,
     "metadata": {},
     "output_type": "execute_result"
    }
   ],
   "source": [
    "X_test_scaled"
   ]
  },
  {
   "cell_type": "markdown",
   "id": "6842262e-0008-404d-91db-ec76ed373513",
   "metadata": {},
   "source": [
    "#### Training the model"
   ]
  },
  {
   "cell_type": "code",
   "execution_count": 15,
   "id": "16832943-cdef-41fa-ba3b-2af1151893a5",
   "metadata": {},
   "outputs": [
    {
     "data": {
      "text/html": [
       "<style>#sk-container-id-1 {color: black;background-color: white;}#sk-container-id-1 pre{padding: 0;}#sk-container-id-1 div.sk-toggleable {background-color: white;}#sk-container-id-1 label.sk-toggleable__label {cursor: pointer;display: block;width: 100%;margin-bottom: 0;padding: 0.3em;box-sizing: border-box;text-align: center;}#sk-container-id-1 label.sk-toggleable__label-arrow:before {content: \"▸\";float: left;margin-right: 0.25em;color: #696969;}#sk-container-id-1 label.sk-toggleable__label-arrow:hover:before {color: black;}#sk-container-id-1 div.sk-estimator:hover label.sk-toggleable__label-arrow:before {color: black;}#sk-container-id-1 div.sk-toggleable__content {max-height: 0;max-width: 0;overflow: hidden;text-align: left;background-color: #f0f8ff;}#sk-container-id-1 div.sk-toggleable__content pre {margin: 0.2em;color: black;border-radius: 0.25em;background-color: #f0f8ff;}#sk-container-id-1 input.sk-toggleable__control:checked~div.sk-toggleable__content {max-height: 200px;max-width: 100%;overflow: auto;}#sk-container-id-1 input.sk-toggleable__control:checked~label.sk-toggleable__label-arrow:before {content: \"▾\";}#sk-container-id-1 div.sk-estimator input.sk-toggleable__control:checked~label.sk-toggleable__label {background-color: #d4ebff;}#sk-container-id-1 div.sk-label input.sk-toggleable__control:checked~label.sk-toggleable__label {background-color: #d4ebff;}#sk-container-id-1 input.sk-hidden--visually {border: 0;clip: rect(1px 1px 1px 1px);clip: rect(1px, 1px, 1px, 1px);height: 1px;margin: -1px;overflow: hidden;padding: 0;position: absolute;width: 1px;}#sk-container-id-1 div.sk-estimator {font-family: monospace;background-color: #f0f8ff;border: 1px dotted black;border-radius: 0.25em;box-sizing: border-box;margin-bottom: 0.5em;}#sk-container-id-1 div.sk-estimator:hover {background-color: #d4ebff;}#sk-container-id-1 div.sk-parallel-item::after {content: \"\";width: 100%;border-bottom: 1px solid gray;flex-grow: 1;}#sk-container-id-1 div.sk-label:hover label.sk-toggleable__label {background-color: #d4ebff;}#sk-container-id-1 div.sk-serial::before {content: \"\";position: absolute;border-left: 1px solid gray;box-sizing: border-box;top: 0;bottom: 0;left: 50%;z-index: 0;}#sk-container-id-1 div.sk-serial {display: flex;flex-direction: column;align-items: center;background-color: white;padding-right: 0.2em;padding-left: 0.2em;position: relative;}#sk-container-id-1 div.sk-item {position: relative;z-index: 1;}#sk-container-id-1 div.sk-parallel {display: flex;align-items: stretch;justify-content: center;background-color: white;position: relative;}#sk-container-id-1 div.sk-item::before, #sk-container-id-1 div.sk-parallel-item::before {content: \"\";position: absolute;border-left: 1px solid gray;box-sizing: border-box;top: 0;bottom: 0;left: 50%;z-index: -1;}#sk-container-id-1 div.sk-parallel-item {display: flex;flex-direction: column;z-index: 1;position: relative;background-color: white;}#sk-container-id-1 div.sk-parallel-item:first-child::after {align-self: flex-end;width: 50%;}#sk-container-id-1 div.sk-parallel-item:last-child::after {align-self: flex-start;width: 50%;}#sk-container-id-1 div.sk-parallel-item:only-child::after {width: 0;}#sk-container-id-1 div.sk-dashed-wrapped {border: 1px dashed gray;margin: 0 0.4em 0.5em 0.4em;box-sizing: border-box;padding-bottom: 0.4em;background-color: white;}#sk-container-id-1 div.sk-label label {font-family: monospace;font-weight: bold;display: inline-block;line-height: 1.2em;}#sk-container-id-1 div.sk-label-container {text-align: center;}#sk-container-id-1 div.sk-container {/* jupyter's `normalize.less` sets `[hidden] { display: none; }` but bootstrap.min.css set `[hidden] { display: none !important; }` so we also need the `!important` here to be able to override the default hidden behavior on the sphinx rendered scikit-learn.org. See: https://github.com/scikit-learn/scikit-learn/issues/21755 */display: inline-block !important;position: relative;}#sk-container-id-1 div.sk-text-repr-fallback {display: none;}</style><div id=\"sk-container-id-1\" class=\"sk-top-container\"><div class=\"sk-text-repr-fallback\"><pre>LinearRegression()</pre><b>In a Jupyter environment, please rerun this cell to show the HTML representation or trust the notebook. <br />On GitHub, the HTML representation is unable to render, please try loading this page with nbviewer.org.</b></div><div class=\"sk-container\" hidden><div class=\"sk-item\"><div class=\"sk-estimator sk-toggleable\"><input class=\"sk-toggleable__control sk-hidden--visually\" id=\"sk-estimator-id-1\" type=\"checkbox\" checked><label for=\"sk-estimator-id-1\" class=\"sk-toggleable__label sk-toggleable__label-arrow\">LinearRegression</label><div class=\"sk-toggleable__content\"><pre>LinearRegression()</pre></div></div></div></div></div>"
      ],
      "text/plain": [
       "LinearRegression()"
      ]
     },
     "execution_count": 15,
     "metadata": {},
     "output_type": "execute_result"
    }
   ],
   "source": [
    "# Create and fit the model\n",
    "\n",
    "# create instance of LinearRegression\n",
    "model = LinearRegression()\n",
    "\n",
    "# fit the training data to the model\n",
    "model.fit(X_train_scaled, y_train)"
   ]
  },
  {
   "cell_type": "markdown",
   "id": "a500ddf6-24ba-4d76-9f78-7fd40e03117f",
   "metadata": {},
   "source": [
    "#### Applying the model to make prediction"
   ]
  },
  {
   "cell_type": "code",
   "execution_count": 16,
   "id": "35a7571a-5929-43e9-9a4f-ac5e68794754",
   "metadata": {},
   "outputs": [
    {
     "data": {
      "text/plain": [
       "array([55.94865067, 79.6308096 , 72.09557721, 58.10157421, 76.40142429,\n",
       "       69.94265367, 80.70727136, 74.24850075, 75.32496252, 78.55434783,\n",
       "       68.8661919 , 67.78973013, 71.01911544, 66.71326837, 73.17203898,\n",
       "       63.48388306])"
      ]
     },
     "execution_count": 16,
     "metadata": {},
     "output_type": "execute_result"
    }
   ],
   "source": [
    "y_train_pred = model.predict(X_train_scaled)\n",
    "y_train_pred"
   ]
  },
  {
   "cell_type": "code",
   "execution_count": 17,
   "id": "12a1dafd-7e6c-46b7-8f14-e88cec90fb6c",
   "metadata": {},
   "outputs": [
    {
     "data": {
      "text/plain": [
       "array([65.6368066 , 64.56034483, 61.33095952, 81.78373313])"
      ]
     },
     "execution_count": 17,
     "metadata": {},
     "output_type": "execute_result"
    }
   ],
   "source": [
    "y_test_pred = model.predict(X_test_scaled)\n",
    "y_test_pred"
   ]
  },
  {
   "cell_type": "markdown",
   "id": "e391fe07-43eb-4b38-b508-8f78fb4ba03e",
   "metadata": {},
   "source": [
    "#### Applying the model to make prediction of new data"
   ]
  },
  {
   "cell_type": "code",
   "execution_count": 18,
   "id": "07669b3f-893c-44cf-a8bf-9266f346f478",
   "metadata": {},
   "outputs": [
    {
     "name": "stderr",
     "output_type": "stream",
     "text": [
      "C:\\ProgramData\\anaconda3\\Lib\\site-packages\\sklearn\\base.py:439: UserWarning: X does not have valid feature names, but StandardScaler was fitted with feature names\n",
      "  warnings.warn(\n"
     ]
    },
    {
     "data": {
      "text/plain": [
       "array([60.25449775])"
      ]
     },
     "execution_count": 18,
     "metadata": {},
     "output_type": "execute_result"
    }
   ],
   "source": [
    "# predicting the weight of new height \n",
    "\n",
    "new_height = np.array([[162]]) \n",
    "\n",
    "# Standardize the new height\n",
    "new_height_scaled = scaler.transform(new_height)\n",
    "\n",
    "# Predict the weight\n",
    "predicted_weight = model.predict(new_height_scaled)\n",
    "predicted_weight"
   ]
  },
  {
   "cell_type": "markdown",
   "id": "5ff92d35-338c-4a41-a99e-e31f5aaf8308",
   "metadata": {},
   "source": [
    "#### Visualization of Prediction"
   ]
  },
  {
   "cell_type": "code",
   "execution_count": 27,
   "id": "ded71a9b-b8e7-47ba-98c1-eea3e951335d",
   "metadata": {},
   "outputs": [
    {
     "data": {
      "text/plain": [
       "Text(0, 0.5, 'Weight')"
      ]
     },
     "execution_count": 27,
     "metadata": {},
     "output_type": "execute_result"
    },
    {
     "data": {
      "image/png": "[encoded data removed]",
      "text/plain": [
       "<Figure size 640x480 with 1 Axes>"
      ]
     },
     "metadata": {},
     "output_type": "display_data"
    }
   ],
   "source": [
    "# plot best fit line with training data\n",
    "\n",
    "plt.scatter(X_train_scaled,y_train)\n",
    "plt.plot(X_train_scaled,model.predict(X_train_scaled),'red')\n",
    "plt.xlabel('Height',fontsize = 15)\n",
    "plt.ylabel('Weight',fontsize = 15)"
   ]
  },
  {
   "cell_type": "code",
   "execution_count": 28,
   "id": "b44b92b0-7f91-4a47-8eb5-f688a2023a04",
   "metadata": {},
   "outputs": [
    {
     "data": {
      "text/plain": [
       "Text(0, 0.5, 'Weight')"
      ]
     },
     "execution_count": 28,
     "metadata": {},
     "output_type": "execute_result"
    },
    {
     "data": {
      "image/png": "[encoded data removed]",
      "text/plain": [
       "<Figure size 640x480 with 1 Axes>"
      ]
     },
     "metadata": {},
     "output_type": "display_data"
    }
   ],
   "source": [
    "# plot best fit line with testing data\n",
    "\n",
    "plt.scatter(X_test_scaled,y_test)\n",
    "plt.plot(X_test_scaled,model.predict(X_test_scaled),'red')\n",
    "plt.xlabel('Height',fontsize = 15)\n",
    "plt.ylabel('Weight',fontsize = 15)"
   ]
  },
  {
   "cell_type": "code",
   "execution_count": 19,
   "id": "5c813848-ad8a-4ac1-bf05-bd7d819b105d",
   "metadata": {},
   "outputs": [
    {
     "data": {
      "text/plain": [
       "array([6.95026776])"
      ]
     },
     "execution_count": 19,
     "metadata": {},
     "output_type": "execute_result"
    }
   ],
   "source": [
    "# slope of line\n",
    "\n",
    "model.coef_"
   ]
  },
  {
   "cell_type": "code",
   "execution_count": 20,
   "id": "0b9db703-6506-421e-a795-b4498e29e2cb",
   "metadata": {},
   "outputs": [
    {
     "data": {
      "text/plain": [
       "70.75"
      ]
     },
     "execution_count": 20,
     "metadata": {},
     "output_type": "execute_result"
    }
   ],
   "source": [
    "# y intercept of line\n",
    "\n",
    "model.intercept_"
   ]
  },
  {
   "cell_type": "markdown",
   "id": "b0f2a0ca-73e1-40d8-b1f6-64e75ca22856",
   "metadata": {},
   "source": [
    "### Model perfomance analysis"
   ]
  },
  {
   "cell_type": "code",
   "execution_count": 21,
   "id": "1c285375-9cda-413b-ac91-4625dce453a0",
   "metadata": {},
   "outputs": [
    {
     "name": "stdout",
     "output_type": "stream",
     "text": [
      "3.323526345897532\n",
      "1.4360944527736166\n",
      "1.8230541258825894\n"
     ]
    }
   ],
   "source": [
    "# calculating mse ,mae ,rmse(low error metrics indicates model is performing good)\n",
    "\n",
    "mse = mean_squared_error(y_test,y_test_pred)\n",
    "mae = mean_absolute_error(y_test,y_test_pred)\n",
    "rmse = np.sqrt(mse)\n",
    "print(mse)\n",
    "print(mae)\n",
    "print(rmse)"
   ]
  },
  {
   "cell_type": "markdown",
   "id": "6fefa85d-4b47-4167-a4cd-5f6a67763248",
   "metadata": {},
   "source": [
    "###### NOTE : Your model's performance is strong, with small errors (MSE = 3.32, MAE = 1.44, RMSE = 1.82) relative to the target range (150-200), indicating accurate predictions and minimal deviation from actual values.\n"
   ]
  },
  {
   "cell_type": "code",
   "execution_count": 22,
   "id": "8ce1359d-43c9-42ea-90fc-6d735ef43a22",
   "metadata": {},
   "outputs": [
    {
     "name": "stdout",
     "output_type": "stream",
     "text": [
      "96.41668318501614\n"
     ]
    }
   ],
   "source": [
    "#  calculate r squared (gives the accuracy of the model)\n",
    "\n",
    "r2_test  = r2_score(y_test,y_test_pred)\n",
    "print(r2_test*100)  \n"
   ]
  },
  {
   "cell_type": "markdown",
   "id": "74605bf0-65a2-4779-86b0-3bc564ab3946",
   "metadata": {},
   "source": [
    "###### NOTE : model explains 96.41% of the variance in the target variable"
   ]
  },
  {
   "cell_type": "code",
   "execution_count": 23,
   "id": "7fe36e84-7840-456f-ad5c-8242d013db91",
   "metadata": {},
   "outputs": [
    {
     "data": {
      "text/plain": [
       "<matplotlib.collections.PathCollection at 0x143717aca90>"
      ]
     },
     "execution_count": 23,
     "metadata": {},
     "output_type": "execute_result"
    },
    {
     "data": {
      "image/png": "[encoded data removed]",
      "text/plain": [
       "<Figure size 640x480 with 1 Axes>"
      ]
     },
     "metadata": {},
     "output_type": "display_data"
    }
   ],
   "source": [
    " # reidual analysis\n",
    "\n",
    "residuals =y_test - y_test_pred\n",
    "\n",
    "plt.scatter(y_test_pred,residuals)"
   ]
  },
  {
   "cell_type": "markdown",
   "id": "7bfa1b44-4298-46fc-8e42-f3e518b61149",
   "metadata": {},
   "source": [
    "###### NOTE : since residuals vs predicted plot is scattered => Good model"
   ]
  },
  {
   "cell_type": "code",
   "execution_count": 27,
   "id": "55038201-3082-494d-8a24-9f4d17b651b5",
   "metadata": {},
   "outputs": [
    {
     "data": {
      "text/html": [
       "<div>\n",
       "<style scoped>\n",
       "    .dataframe tbody tr th:only-of-type {\n",
       "        vertical-align: middle;\n",
       "    }\n",
       "\n",
       "    .dataframe tbody tr th {\n",
       "        vertical-align: top;\n",
       "    }\n",
       "\n",
       "    .dataframe thead th {\n",
       "        text-align: right;\n",
       "    }\n",
       "</style>\n",
       "<table border=\"1\" class=\"dataframe\">\n",
       "  <thead>\n",
       "    <tr style=\"text-align: right;\">\n",
       "      <th></th>\n",
       "      <th>Method</th>\n",
       "      <th>Train MSE</th>\n",
       "      <th>Test MSE</th>\n",
       "      <th>Train R²</th>\n",
       "      <th>Test R²</th>\n",
       "    </tr>\n",
       "  </thead>\n",
       "  <tbody>\n",
       "    <tr>\n",
       "      <th>0</th>\n",
       "      <td>Linear Regression</td>\n",
       "      <td>3.006278</td>\n",
       "      <td>3.323526</td>\n",
       "      <td>0.941412</td>\n",
       "      <td>0.964167</td>\n",
       "    </tr>\n",
       "  </tbody>\n",
       "</table>\n",
       "</div>"
      ],
      "text/plain": [
       "              Method  Train MSE  Test MSE  Train R²   Test R²\n",
       "0  Linear Regression   3.006278  3.323526  0.941412  0.964167"
      ]
     },
     "execution_count": 27,
     "metadata": {},
     "output_type": "execute_result"
    }
   ],
   "source": [
    "# table compairing training and test mse and r2\n",
    "\n",
    "test_mse = mean_squared_error(y_test,y_test_pred)\n",
    "train_mse = mean_squared_error(y_train,y_train_pred)\n",
    "r2_test  = r2_score(y_test,y_test_pred)\n",
    "r2_train  = r2_score(y_train,y_train_pred)\n",
    "\n",
    "train_test_comparison = pd.DataFrame({\n",
    "    'Method': ['Linear Regression'],\n",
    "    'Train MSE': [train_mse],\n",
    "    'Test MSE': [test_mse],\n",
    "    'Train R²': [r2_train],\n",
    "    'Test R²': [r2_test]\n",
    "})\n",
    "\n",
    "train_test_comparison"
   ]
  },
  {
   "cell_type": "markdown",
   "id": "184a6763-2d71-4573-8dd3-5161f70d5491",
   "metadata": {},
   "source": [
    "###### `NOTE : There is no marked variation in testing and training mse and r2"
   ]
  },
  {
   "cell_type": "markdown",
   "id": "1fedf947-3c41-4a09-8198-68b822068414",
   "metadata": {},
   "source": [
    "### Conclusion "
   ]
  },
  {
   "cell_type": "markdown",
   "id": "74d6f4e1-5ff6-46c2-8818-b172dcaa16be",
   "metadata": {},
   "source": [
    "##### LR model make good prediction "
   ]
  }
 ],
 "metadata": {
  "kernelspec": {
   "display_name": "Python 3 (ipykernel)",
   "language": "python",
   "name": "python3"
  },
  "language_info": {
   "codemirror_mode": {
    "name": "ipython",
    "version": 3
   },
   "file_extension": ".py",
   "mimetype": "text/x-python",
   "name": "python",
   "nbconvert_exporter": "python",
   "pygments_lexer": "ipython3",
   "version": "3.11.7"
  }
 },
 "nbformat": 4,
 "nbformat_minor": 5
}
